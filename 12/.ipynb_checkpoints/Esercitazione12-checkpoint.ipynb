{
 "cells": [
  {
   "cell_type": "markdown",
   "id": "12e5f501",
   "metadata": {},
   "source": [
    "# Esercitazione 12 - Riconoscimento delle immagini con reti neurali profonde e convoluzionali"
   ]
  },
  {
   "cell_type": "markdown",
   "id": "762c7240",
   "metadata": {},
   "source": [
    "## 1 Obiettivo"
   ]
  },
  {
   "cell_type": "markdown",
   "id": "d3f887cd",
   "metadata": {},
   "source": [
    "L'obiettivo di questa esercitazione è realizzare del codice in grado di riconoscere le dieci cifre 0-9 in delle immagini in cui queste sono scritte a mano.\n",
    "\n",
    "A questo scopo verrà utilizzata sia una rete neurale profonda sia una rete neurale convoluzionale. Ne verranno quindi discusse le analogie, le differenze, le potenzialità e i limiti di ciascuna architettura."
   ]
  },
  {
   "cell_type": "markdown",
   "id": "332cf822",
   "metadata": {},
   "source": [
    "## 2 Rete neurale profonda"
   ]
  },
  {
   "cell_type": "markdown",
   "id": "fe0894eb",
   "metadata": {},
   "source": [
    "In questa prima parte dell'esercitazione ho implementato il riconoscimento della scrittura delle 10 cifre utilizzando una rete neurale profonda. \n",
    "Nel paragrafo successivo è presente il codice che ho implementato, corredato di spiegazione dei vari passaggi e di alcune osservazioni riguardanti scelte progettuali e problemi che è stato necessario affrontare."
   ]
  },
  {
   "cell_type": "markdown",
   "id": "56aed519",
   "metadata": {},
   "source": [
    "### 2.1 Implementazione"
   ]
  },
  {
   "cell_type": "markdown",
   "id": "53a34795",
   "metadata": {},
   "source": [
    "Innanzitutto importo i diversi moduli utilizzati. Le librerie necessarie per la realizzazione della rete neurale sono keras e tensorflow."
   ]
  },
  {
   "cell_type": "code",
   "execution_count": 1,
   "id": "e4c5926e",
   "metadata": {},
   "outputs": [],
   "source": [
    "import tensorflow as tf\n",
    "from tensorflow import keras\n",
    "import os\n",
    "import numpy as np\n",
    "import matplotlib.pyplot as plt\n",
    "seed=0\n",
    "np.random.seed(seed) # fix random seed\n",
    "tf.random.set_seed(seed)"
   ]
  },
  {
   "cell_type": "markdown",
   "id": "491a5822",
   "metadata": {},
   "source": [
    "Per poter allenare il modello è necessario disporre di un set di dati su cui effettuare l'allenamento e la validazione. Keras mette a disposizione il dataset `mnist` costituito da $7\\cdot10^5$ immagini 28x28 in scala di grigi raffiuguranti delle cifre da 0 a 9 scritte a mano con diverse calligrafie. Le immagini sono inoltre etichettate con il valore che vi è rappresentato, non sarebbe altrimenti possibile utilizzare in applicazioni si questo tipo."
   ]
  },
  {
   "cell_type": "code",
   "execution_count": 2,
   "id": "a154b78d",
   "metadata": {},
   "outputs": [
    {
     "name": "stdout",
     "output_type": "stream",
     "text": [
      "X_train shape: (60000, 28, 28)\n",
      "Y_train shape: (60000,)\n",
      "\n",
      "60000 train samples\n",
      "10000 test samples\n"
     ]
    }
   ],
   "source": [
    "from keras.datasets import mnist\n",
    "\n",
    "# input image dimensions\n",
    "img_rows, img_cols = 28, 28 # number of pixels \n",
    "# output\n",
    "num_classes = 10 # 10 digits\n",
    "\n",
    "# the data, split between train and test sets\n",
    "(X_train, Y_train), (X_test, Y_test) = mnist.load_data()\n",
    "\n",
    "print('X_train shape:', X_train.shape)\n",
    "print('Y_train shape:', Y_train.shape)\n",
    "print()\n",
    "print(X_train.shape[0], 'train samples')\n",
    "print(X_test.shape[0], 'test samples')"
   ]
  },
  {
   "cell_type": "code",
   "execution_count": 3,
   "id": "17bfef27",
   "metadata": {},
   "outputs": [
    {
     "name": "stdout",
     "output_type": "stream",
     "text": [
      "an example of a data point with label 4\n"
     ]
    },
    {
     "data": {
      "image/png": "[encoded data removed]",
      "text/plain": [
       "<Figure size 288x288 with 1 Axes>"
      ]
     },
     "metadata": {
      "needs_background": "light"
     },
     "output_type": "display_data"
    },
    {
     "name": "stdout",
     "output_type": "stream",
     "text": [
      "an example of a data point with label 4 before to_categorical ...\n",
      "... and with label [0. 0. 0. 0. 1. 0. 0. 0. 0. 0.] after to_categorical\n",
      "\n",
      "X_train shape: (60000, 784)\n",
      "Y_train shape: (60000, 10)\n"
     ]
    }
   ],
   "source": [
    "# reshape data, it could depend on Keras backend\n",
    "X_train = X_train.reshape(X_train.shape[0], img_rows*img_cols)\n",
    "X_test = X_test.reshape(X_test.shape[0], img_rows*img_cols)\n",
    "\n",
    "# cast floats to single precision\n",
    "X_train = X_train.astype('float32')\n",
    "X_test = X_test.astype('float32')\n",
    "\n",
    "# rescale data in interval [0,1]\n",
    "X_train /= 255\n",
    "X_test /= 255\n",
    "\n",
    "# look at an example of data point\n",
    "print('an example of a data point with label', Y_train[20])\n",
    "# matshow: display a matrix in a new figure window\n",
    "plt.matshow(X_train[20,:].reshape(28,28),cmap='binary')\n",
    "plt.show()\n",
    "\n",
    "print('an example of a data point with label', Y_train[20], 'before to_categorical ...')\n",
    "# convert class vectors to binary class matrices, e.g. for use with categorical_crossentropy\n",
    "Y_train = keras.utils.to_categorical(Y_train, num_classes)\n",
    "Y_test = keras.utils.to_categorical(Y_test, num_classes)\n",
    "print('... and with label', Y_train[20], 'after to_categorical')\n",
    "print()\n",
    "print('X_train shape:', X_train.shape)\n",
    "print('Y_train shape:', Y_train.shape)"
   ]
  },
  {
   "cell_type": "markdown",
   "id": "86d92df5",
   "metadata": {},
   "source": [
    "Nella cella precedente viene formattato il dataset secondo le esigenze di keras. Viene inoltre mosttrato un esempio di questi dati e viene fornita una dimostrazione di utilizzo della funzione `keras.utils.to_categorical` che trasforma la label in un vettore binario in cui ogni cella rappresenta una diversa categoria. Questa funzione servirà per utilizzare la funzione di costo `categorical_crossentropy`.\n",
    "\n",
    "Sono quindi pronto a creare il modello di rete neurale. Dopo aver importato le componenti necessarie viene definita una funzione che definisce la struttura della rete neurale profonda."
   ]
  },
  {
   "cell_type": "code",
   "execution_count": 4,
   "id": "05999c28",
   "metadata": {},
   "outputs": [],
   "source": [
    "from keras.models import Sequential\n",
    "from keras.layers import Dense, Dropout\n",
    "\n",
    "def create_DNN():\n",
    "    # instantiate model\n",
    "    model = Sequential()\n",
    "    # add a dense all-to-all relu layer\n",
    "    model.add(Dense(400,input_shape=(img_rows*img_cols,), activation='relu'))\n",
    "    # add a dense all-to-all relu layer\n",
    "    model.add(Dense(100, activation='relu'))\n",
    "    # apply dropout with rate 0.5\n",
    "    model.add(Dropout(0.5))\n",
    "    # soft-max layer\n",
    "    model.add(Dense(num_classes, activation='softmax'))\n",
    "    \n",
    "    return model"
   ]
  },
  {
   "cell_type": "markdown",
   "id": "9b568c3c",
   "metadata": {},
   "source": [
    "Come si può leggere dal codice viene costruita una rete neurale costituita da un layer di input da 400 neuroni, seguito da un layer nascosto da 100 neuroni e, infine, un layer costituito da 10 neuroni da cui verrà letta la classificazione.\n",
    "Tra l'ultimo e il penultimo layer è presente un layer di dropout che casualmente spegne il 50% delle connessioni tra i due layer tra cui è posto. Questo avviene solamente durante la fase di allenamento. Quando poi il modello è pronto, durante la sua applicazione su nuovi dati tutte le connessioni vengono mantenute attive.\n",
    "\n",
    "Si può notare come il numero di neuroni diminuisca da layer a layer. Questa scelta, insieme alla scelta di aggiungere il layer di dropout, è dovuta alla differente dimensione dei dati di input e di output: la rete deve cercare di condensare e riassumere tutta l'informazione che le viene fornita estraendone solo la componente importante per eseguire la categorizzazione.\n",
    "\n",
    "La funzione di attivazione scelta per i neuroni interni è la `relu` che è una tra le più comunemente utilizzate. L'ultimo layer utilizza invece la `softmax`. Questa funzione di attivazione è specificatamente indicata per problemi di catalogazione in quanto fornisce valori in uscita a tutti i neuroni di output non negativi e tali che la loro somma è pari a 1. Questo permette di interpretare l'output come una distribuzione di probabilità.\n",
    "\n",
    "Nella cella successiva viene invece definita una funzione che permette di compilare il modello."
   ]
  },
  {
   "cell_type": "code",
   "execution_count": 5,
   "id": "c5b067e0",
   "metadata": {},
   "outputs": [],
   "source": [
    "def compile_model():\n",
    "    # create the model\n",
    "    model=create_DNN()\n",
    "    # compile the model\n",
    "    model.compile(loss=keras.losses.categorical_crossentropy,\n",
    "                  optimizer='nadam',\n",
    "                  metrics=['acc'])\n",
    "    return model"
   ]
  },
  {
   "cell_type": "markdown",
   "id": "9bf8c116",
   "metadata": {},
   "source": [
    "In questa fase sono due i parametri  che è importante specificare:\n",
    "- l'ottimizzatore\n",
    "- la funzione di costo\n",
    "\n",
    "L'ottimmizatore è l'algoritmo utilizzato per variare i parametri della rete neurale in modo tale ricercare il minimo della funzione di costo. Come già accennato nell'esercitazione precedente ne esistono di diversi e la maggior parte di essi sono basati sull'algoritmo della discesa stocastica del gradiente.\n",
    "\n",
    "In questo esercizio provo 3 diversi ottimizzatori diversi da quelli utilizzati nell'esercitazione 11:\n",
    "- `Adadelta`: metodo di discesa stocastica del gradiente basato su un learning rate adattivo diverso per ogni direzione, implementato in modo tale da evitare che decresca troppo quando un parametro viene aggiornato molto frequentemente. È infatti una versione più robusta di `Adagrad` che previene questo problema e la necessità di settare un learning rate globale.\n",
    "\n",
    "- `Nadam`: ottimizzatore `Adam` con momento di Nesterov in luogo del normale momento.\n",
    "\n",
    "- `RMSprop`: Utilizza l'algoritmo RMSprop che mantiene una media delle lunghezze dei gradienti di alcuni step precedenti e divide il gradiente, in un passo della discesa, per la radice quadrata di questa media. Implementa inoltre anche un momento.\n",
    "\n",
    "Come funzione di costo viene invece scelta la `categorical_crossentropy`:\n",
    "$$\n",
    "L(\\vec y^{out})=-\\frac{1}{N}\\sum_{i=1}^{N}\\big(y_i^{out}\\cdot\\log(y_i^{lab})\\big)\n",
    "$$\n",
    "dove la sommatoria è eseguita sulle categorie e i valori $y^{out_i}$ sono i valori ottenuti in output dalla rete, ovvero le probabilità associate a ciascuna categoria. Per poter utilizzare questa funzione è necessario che le label dei dati abbiano la forma fornita dalla funzione `keras.utils.to_categorical()`.\n",
    "\n",
    "Posso ora avviare l'allenamento del modello"
   ]
  },
  {
   "cell_type": "code",
   "execution_count": 6,
   "id": "fb1c2ba1",
   "metadata": {},
   "outputs": [
    {
     "name": "stdout",
     "output_type": "stream",
     "text": [
      "Epoch 1/20\n",
      "1875/1875 [==============================] - 30s 10ms/step - loss: 0.4717 - acc: 0.8583 - val_loss: 0.1218 - val_acc: 0.9626\n",
      "Epoch 2/20\n",
      "1875/1875 [==============================] - 24s 13ms/step - loss: 0.1202 - acc: 0.9657 - val_loss: 0.0916 - val_acc: 0.9712\n",
      "Epoch 3/20\n",
      "1875/1875 [==============================] - 24s 13ms/step - loss: 0.0877 - acc: 0.9748 - val_loss: 0.0821 - val_acc: 0.9751\n",
      "Epoch 4/20\n",
      "1875/1875 [==============================] - 21s 11ms/step - loss: 0.0670 - acc: 0.9797 - val_loss: 0.0873 - val_acc: 0.9738\n",
      "Epoch 5/20\n",
      "1875/1875 [==============================] - 22s 12ms/step - loss: 0.0501 - acc: 0.9837 - val_loss: 0.0769 - val_acc: 0.9784\n",
      "Epoch 6/20\n",
      "1875/1875 [==============================] - 23s 12ms/step - loss: 0.0443 - acc: 0.9866 - val_loss: 0.0832 - val_acc: 0.9792\n",
      "Epoch 7/20\n",
      "1875/1875 [==============================] - 23s 12ms/step - loss: 0.0393 - acc: 0.9871 - val_loss: 0.0994 - val_acc: 0.9764\n",
      "Epoch 8/20\n",
      "1875/1875 [==============================] - 23s 12ms/step - loss: 0.0373 - acc: 0.9883 - val_loss: 0.0880 - val_acc: 0.9802\n",
      "Epoch 9/20\n",
      "1875/1875 [==============================] - 23s 12ms/step - loss: 0.0287 - acc: 0.9910 - val_loss: 0.0840 - val_acc: 0.9792\n",
      "Epoch 10/20\n",
      "1875/1875 [==============================] - 23s 12ms/step - loss: 0.0277 - acc: 0.9916 - val_loss: 0.0766 - val_acc: 0.9829\n",
      "Epoch 11/20\n",
      "1875/1875 [==============================] - 22s 12ms/step - loss: 0.0229 - acc: 0.9927 - val_loss: 0.1025 - val_acc: 0.9786\n",
      "Epoch 12/20\n",
      "1875/1875 [==============================] - 23s 12ms/step - loss: 0.0237 - acc: 0.9918 - val_loss: 0.0941 - val_acc: 0.9828\n",
      "Epoch 13/20\n",
      "1875/1875 [==============================] - 22s 12ms/step - loss: 0.0222 - acc: 0.9933 - val_loss: 0.1063 - val_acc: 0.9805\n",
      "Epoch 14/20\n",
      "1875/1875 [==============================] - 23s 12ms/step - loss: 0.0194 - acc: 0.9941 - val_loss: 0.0891 - val_acc: 0.9820\n",
      "Epoch 15/20\n",
      "1875/1875 [==============================] - 23s 12ms/step - loss: 0.0232 - acc: 0.9927 - val_loss: 0.1081 - val_acc: 0.9786\n",
      "Epoch 16/20\n",
      "1875/1875 [==============================] - 22s 12ms/step - loss: 0.0194 - acc: 0.9937 - val_loss: 0.1061 - val_acc: 0.9808\n",
      "Epoch 17/20\n",
      "1875/1875 [==============================] - 22s 12ms/step - loss: 0.0151 - acc: 0.9947 - val_loss: 0.1021 - val_acc: 0.9826\n",
      "Epoch 18/20\n",
      "1875/1875 [==============================] - 23s 12ms/step - loss: 0.0169 - acc: 0.9950 - val_loss: 0.1159 - val_acc: 0.9809\n",
      "Epoch 19/20\n",
      "1875/1875 [==============================] - 25s 14ms/step - loss: 0.0152 - acc: 0.9952 - val_loss: 0.1060 - val_acc: 0.9836\n",
      "Epoch 20/20\n",
      "1875/1875 [==============================] - 26s 14ms/step - loss: 0.0154 - acc: 0.9953 - val_loss: 0.1196 - val_acc: 0.9812\n"
     ]
    }
   ],
   "source": [
    "# training parameters\n",
    "batch_size = 32\n",
    "epochs = 20\n",
    "#identificativo per i vari file che vengono salvati. \n",
    "#quando si modifica un parametro modificare anche questo \n",
    "#così da avere nomi diversi per i file.\n",
    "saving_id = '004'\n",
    "\n",
    "# create the deep neural net\n",
    "model_DNN = compile_model()\n",
    "\n",
    "# train DNN and store training info in history\n",
    "history = model_DNN.fit(X_train, Y_train,\n",
    "          batch_size=batch_size,\n",
    "          epochs=epochs,\n",
    "          verbose=1,\n",
    "          validation_data=(X_test, Y_test))"
   ]
  },
  {
   "cell_type": "markdown",
   "id": "c1289778",
   "metadata": {},
   "source": [
    "valutazione del modello"
   ]
  },
  {
   "cell_type": "code",
   "execution_count": 7,
   "id": "9aa2967d",
   "metadata": {},
   "outputs": [],
   "source": [
    "#ottengo il nome dell'ottimizzatore utilizzato\n",
    "opt_str = str(model_DNN.optimizer)\n",
    "nopt_str2 = str.split(opt_str, 'object')[0]\n",
    "opt_name = str.split(nopt_str2, '.')[-1].strip()\n",
    "\n",
    "#definisco nomi di file e directory\n",
    "file_prefix = opt_name + saving_id\n",
    "savedir = 'es12.1.output/'"
   ]
  },
  {
   "cell_type": "markdown",
   "id": "00842254",
   "metadata": {},
   "source": [
    "Definisco quindi alcune variabili necessarie per salvare i risultati ottenuti"
   ]
  },
  {
   "cell_type": "code",
   "execution_count": 8,
   "id": "16cde342",
   "metadata": {
    "scrolled": false
   },
   "outputs": [
    {
     "name": "stdout",
     "output_type": "stream",
     "text": [
      "313/313 [==============================] - 1s 2ms/step - loss: 0.1196 - acc: 0.9812\n",
      "\n",
      "Test loss: 0.11959399282932281\n",
      "Test accuracy: 0.9811999797821045\n"
     ]
    },
    {
     "data": {
      "image/png": "[encoded data removed]",
      "text/plain": [
       "<Figure size 432x288 with 1 Axes>"
      ]
     },
     "metadata": {
      "needs_background": "light"
     },
     "output_type": "display_data"
    },
    {
     "data": {
      "image/png": "[encoded data removed]",
      "text/plain": [
       "<Figure size 432x288 with 1 Axes>"
      ]
     },
     "metadata": {
      "needs_background": "light"
     },
     "output_type": "display_data"
    }
   ],
   "source": [
    "# evaluate model\n",
    "score_loss, score_accuracy = model_DNN.evaluate(X_test, Y_test, verbose=1)\n",
    "\n",
    "# print performance\n",
    "print()\n",
    "print('Test loss:', score_loss)\n",
    "print('Test accuracy:', score_accuracy)\n",
    "\n",
    "# look into training history\n",
    "\n",
    "# summarize history for accuracy\n",
    "plt.plot(history.history['acc'])\n",
    "plt.plot(history.history['val_acc'])\n",
    "plt.ylabel('model accuracy')\n",
    "plt.xlabel('epoch')\n",
    "plt.legend(['train', 'test'], loc='best')\n",
    "plt.savefig(savedir + file_prefix + '_acc.png')\n",
    "plt.show()\n",
    "\n",
    "# summarize history for loss\n",
    "plt.plot(history.history['loss'])\n",
    "plt.plot(history.history['val_loss'])\n",
    "plt.ylabel('model loss')\n",
    "plt.xlabel('epoch')\n",
    "plt.legend(['train', 'test'], loc='best')\n",
    "plt.savefig(savedir + file_prefix + '_loss.png')\n",
    "plt.show()"
   ]
  },
  {
   "cell_type": "markdown",
   "id": "92308d4f",
   "metadata": {},
   "source": [
    "Nella cella precedente ho eseguito l'applicazione della rete neurale al test set per valutare il modello allenato. Sono poi stampati i valori ottenuti per la funzione di costo e per l'accuratezza. \n",
    "\n",
    "L'accuratezza è una metrica utile per valutare il modello allenato definita come la percentuale di valori predetti che corrispondono ai valori reali.\n",
    "\n",
    "Sono inoltre mostrati anche gli andamenti di queste metriche in funzione delle epoche dell'allenamento. Questi grafici verranno discussi in seguito evidenziando le differenze tra i vari ottimizzatori."
   ]
  },
  {
   "cell_type": "code",
   "execution_count": 9,
   "id": "30e4f7f9",
   "metadata": {},
   "outputs": [],
   "source": [
    "#salvo alcune informazioni\n",
    "output_f = open( savedir + file_prefix + '_info.txt', 'w');\n",
    "output_f.write(opt_str + '\\n')\n",
    "output_f.write('epochs: ' + str(epochs)+'\\n')\n",
    "output_f.write('loss: ' + str(score_loss) + '\\n')\n",
    "output_f.write('accuracy: ' + str(score_accuracy) + '\\n')\n",
    "output_f.write('optimizer: ' + opt_name + '\\n')\n",
    "output_f.write(f'loss: {score_loss}\\n')\n",
    "output_f.write(f'accuracy : {score_accuracy}\\n')\n",
    "output_f.close()"
   ]
  },
  {
   "cell_type": "markdown",
   "id": "a4d9b172",
   "metadata": {},
   "source": [
    "Ho salvato su file alcune informazioni relative all'architettura appena simulata. \n",
    "\n",
    "Nella cella seguente è stata realizzata una applicazione del modello allenato ad alcuni valori estratti dal test set. L'unico scopo di queste righe è il fornire un riscontro visivo di ciò predice la rete associandolo alla corrispondente immagine di input."
   ]
  },
  {
   "cell_type": "code",
   "execution_count": 10,
   "id": "594e7a97",
   "metadata": {},
   "outputs": [
    {
     "data": {
      "image/png": "[encoded data removed]",
      "text/plain": [
       "<Figure size 1080x1080 with 10 Axes>"
      ]
     },
     "metadata": {
      "needs_background": "light"
     },
     "output_type": "display_data"
    }
   ],
   "source": [
    "X_test = X_test.reshape(X_test.shape[0], img_rows*img_cols)\n",
    "predictions = model_DNN.predict(X_test)\n",
    "\n",
    "X_test = X_test.reshape(X_test.shape[0], img_rows, img_cols,1)\n",
    "\n",
    "plt.figure(figsize=(15, 15)) \n",
    "for i in range(10):    \n",
    "    ax = plt.subplot(2, 10, i + 1)    \n",
    "    plt.imshow(X_test[i, :, :, 0], cmap='gray')    \n",
    "    plt.title(\"Digit: {}\\nPredicted:    {}\".format(np.argmax(Y_test[i]), np.argmax(predictions[i])))    \n",
    "    plt.axis('off') \n",
    "plt.tight_layout()\n",
    "plt.show()"
   ]
  },
  {
   "cell_type": "markdown",
   "id": "25f8c43e",
   "metadata": {},
   "source": [
    "### 2.2 Performance di diversi ottimizzatori"
   ]
  },
  {
   "cell_type": "markdown",
   "id": "4fb1315f",
   "metadata": {},
   "source": [
    "#### 2.2.1 Adadelta\n",
    "\n",
    "<img src=\"es12.1.output/Adadelta002_loss.png\" align=\"left\">\n",
    "<img src=\"es12.1.output/Adadelta002_acc.png\" align=\"left\">\n"
   ]
  },
  {
   "cell_type": "markdown",
   "id": "f2442b92",
   "metadata": {},
   "source": [
    "Valori dopo 20 epoche:\n",
    "- loss: 0.601\n",
    "- accuracy: 0.874\n",
    "\n",
    "Con questo primo ottimizzatore si può osservare come fino all'ultima epoca sia la funzione di costo sia l'accuracy continuino a migliorare. L'andamento di queste curve mi fa ipotizzare che l'allenamento si sarebbe potuto continuare ottenendo risultati migliori. Tuttavia il tempo di esecuzione è già abbastanza alto e, come si vedrà, altri ottimizzatori consentono con le sole 20 epoche di giungere a risultati più soddisfacenti. \n",
    "Posso quindi concludere che questo ottimizzatore sia troppo lento per questa applicazione."
   ]
  },
  {
   "cell_type": "markdown",
   "id": "358c880a",
   "metadata": {},
   "source": [
    "#### 2.2.2 Nadam\n",
    "\n",
    "<img src=\"es12.1.output/Nadam001_loss.png\" align=\"left\">\n",
    "<img src=\"es12.1.output/Nadam001_acc.png\" align=\"left\">\n"
   ]
  },
  {
   "cell_type": "markdown",
   "id": "28110d45",
   "metadata": {},
   "source": [
    "Valori dopo 20 epoche:\n",
    "- loss: 0.120\n",
    "- accuracy: 0.981\n",
    "\n",
    "Si nota invece in questo caso un andamento notevolmente diverso. La convergenza è avvenuta con velocità superiori e si è presto raggiunto un valore di saturazione per entrambe le funzioni.\n",
    "Si può anche osservare un principio di overlearning in quanto la funzione di costo valutata sul test set ha nelle ultime epoche un andamento crescente, laddove se valutata sul test set questa continua a decrescere.\n",
    "\n",
    "Tuttavia l'accuracy ottenuta rimane ottima assestandosi intorno al 98%."
   ]
  },
  {
   "cell_type": "markdown",
   "id": "19e2721a",
   "metadata": {},
   "source": [
    "#### 2.2.3 RMSprop\n",
    "\n",
    "<img src=\"es12.1.output/RMSprop003_loss.png\" align=\"left\">\n",
    "<img src=\"es12.1.output/RMSprop003_acc.png\" align=\"left\">\n"
   ]
  },
  {
   "cell_type": "markdown",
   "id": "9358e9a8",
   "metadata": {},
   "source": [
    "Valori dopo 20 epoche:\n",
    "- loss: 0.396\n",
    "- accuracy: 0.974\n",
    "\n",
    "In questo caso si nota un allontanamento dal minimo trovato dopo circa 3 epoche. Vi è anche un sostanziale incremento del valore della funzione di costo valutata sul test set. L'accuracy mantiene invece valori circa costanti pari a quelli ottenuti dopo le 3 epoche.\n",
    "Valutando il quadro complessivo posso concludere che tra i 3 ottimizzatori `Nadam` è quello che ha performato nel migliore dei modi con gli altri parametri che già erano stati fissati. Il modello allenato con questo ottimizzatore è quello che verrà utilizzato nella successiva applicazione."
   ]
  },
  {
   "cell_type": "markdown",
   "id": "7fc53b6e",
   "metadata": {},
   "source": [
    "### 2.3 Applicazione del modello"
   ]
  },
  {
   "cell_type": "markdown",
   "id": "42501c87",
   "metadata": {},
   "source": [
    "Ho quindi applicato il modello a 10 immagini di cifre scritte da me con gimp. Ho introdotto alcune peculiarità come ad esempio il non centramento della cifra all'interno della cella.\n",
    "\n",
    "I risultati ottenuti dall'applicazione del modello sono i seguenti"
   ]
  },
  {
   "cell_type": "code",
   "execution_count": 11,
   "id": "fce961d7",
   "metadata": {
    "scrolled": true
   },
   "outputs": [
    {
     "data": {
      "image/png": "[encoded data removed]",
      "text/plain": [
       "<Figure size 1080x1080 with 10 Axes>"
      ]
     },
     "metadata": {
      "needs_background": "light"
     },
     "output_type": "display_data"
    }
   ],
   "source": [
    "from PIL import Image\n",
    "import os\n",
    "\n",
    "my_X = []\n",
    "for i in range(0,10):\n",
    "    digit_filename = f\"./{i}.png\"\n",
    "    digit_in = Image.open(digit_filename).convert('L')\n",
    "    ydim, xdim = digit_in.size\n",
    "    pix=digit_in.load();\n",
    "    data = np.zeros((xdim, ydim))\n",
    "    for j in range(ydim):\n",
    "        for i in range(xdim):\n",
    "            data[i,j]=pix[j,i]\n",
    "\n",
    "    data /= 255\n",
    "    data = data.reshape(1,xdim*ydim)\n",
    "    my_X.append(data)\n",
    "    \n",
    "my_X = np.array(my_X)\n",
    "predictions = [model_DNN.predict(ele) for ele in my_X]\n",
    "\n",
    "my_X = my_X.reshape(my_X.shape[0], img_rows, img_cols,1)\n",
    "\n",
    "plt.figure(figsize=(15, 15)) \n",
    "for i in range(10):    \n",
    "    ax = plt.subplot(2, 10, i + 1)    \n",
    "    plt.imshow(my_X[i, :, :, 0], cmap='gray')    \n",
    "    plt.title(\"Digit: {}\\nPredicted:    {}\".format(i, np.argmax(predictions[i])))    \n",
    "    plt.axis('off') \n",
    "plt.tight_layout()\n",
    "plt.show()"
   ]
  },
  {
   "cell_type": "markdown",
   "id": "1b2d03b4",
   "metadata": {},
   "source": [
    "Su queste 10 immagini l'accuracy ottenuta è del 60%. È stato correttamente predetto il 6 nonostante lo avessi scritto decentrato. Non sono invece state predette alcune cifre come lo 0 e il 7 che dovrebbero essere invece chiare. Si osserverà poi se con le stesse immagini la rete neurale convoluzionale fornisce risultati migliori."
   ]
  },
  {
   "cell_type": "markdown",
   "id": "e53757d3",
   "metadata": {},
   "source": [
    "## 3 Rete neurale convoluzionale"
   ]
  },
  {
   "cell_type": "markdown",
   "id": "783ca1cf",
   "metadata": {},
   "source": [
    "In questa seconda parte dell'esercizio ho invece implementato la risoluzione dello stesso problema mediante una rete neurale convoluzionale. Questo tipo di reti utilizza layers convoluzionali che eseguono una sorta di filtraggio dell'immagine per l'estrazione delle caratteristiche fondamentali.\n",
    "\n",
    "Le varie tipologie di layers utilizzate verrano discusse in seguito. Lo scopo principale di un'architettura di questo tipo è quello di rendere la rete in grado di gestire dati che possono essere caratterizzati da simmetria traslazionale o di riscalamento. Questa rete dovrebbe essere migliore nel processare immagini in cui la cifra appare decentrata o di dimensioni diverse rispetto a quelle incontrate nel training set."
   ]
  },
  {
   "cell_type": "markdown",
   "id": "797486e5",
   "metadata": {},
   "source": [
    "### 3.1 Implementazione"
   ]
  },
  {
   "cell_type": "markdown",
   "id": "e5782036",
   "metadata": {},
   "source": [
    "L'implementazione segue lo stesso schema dell'architettura precedente. La differenza fondamentale risiede nella scelta dei layer con cui costruire la rete.\n",
    "\n",
    "Innanzitutto importo i moduli necessari e preparo i dati"
   ]
  },
  {
   "cell_type": "code",
   "execution_count": 12,
   "id": "bc6af607",
   "metadata": {},
   "outputs": [
    {
     "name": "stdout",
     "output_type": "stream",
     "text": [
      "X_train shape: (60000, 28, 28, 1)\n",
      "Y_train shape: (60000, 10)\n",
      "\n",
      "60000 train samples\n",
      "10000 test samples\n"
     ]
    }
   ],
   "source": [
    "# you will need the following for Convolutional Neural Networks\n",
    "from keras.layers import Flatten, Conv2D, MaxPooling2D\n",
    "\n",
    "# reshape data, depending on Keras backend\n",
    "if keras.backend.image_data_format() == 'channels_first':\n",
    "    X_train = X_train.reshape(X_train.shape[0], 1, img_rows, img_cols)\n",
    "    X_test = X_test.reshape(X_test.shape[0], 1, img_rows, img_cols)\n",
    "    input_shape = (1, img_rows, img_cols)\n",
    "else:\n",
    "    X_train = X_train.reshape(X_train.shape[0], img_rows, img_cols, 1)\n",
    "    X_test = X_test.reshape(X_test.shape[0], img_rows, img_cols, 1)\n",
    "    input_shape = (img_rows, img_cols, 1)\n",
    "    \n",
    "print('X_train shape:', X_train.shape)\n",
    "print('Y_train shape:', Y_train.shape)\n",
    "print()\n",
    "print(X_train.shape[0], 'train samples')\n",
    "print(X_test.shape[0], 'test samples')"
   ]
  },
  {
   "cell_type": "markdown",
   "id": "1c4e38d3",
   "metadata": {},
   "source": [
    "Definisco quindi la funzione che crea il modello di rete convoluzionale. In questa funzione risiede la natura convoluzionale. La struttura che ho realizzato è caratterizzata dai seguenti layer:\n",
    "\n",
    "- `Conv2D`: Questo Layer crea un kernel di convoluzione che viene poi applicato al layer di input producendo in output un tensore. Il comportamento di questo layer è chiaro dalla seguente figura, la feature map è il tensore restituito in output dal layer:\n",
    "<img src=\"conv2d.gif\" width=\"400\">\n",
    "\n",
    "- `MaxPooling2D`: Sottocampiona l'input lungo le sue dimensioni spaziali prendendo il valore massimo entro una certa finetra descritta da `pool_size`. Questa finestra viene shiftata sull'immagine di input di `strides` nelle due direzioni. L'obiettivo di questo layer è la riduzione dei numerosi dati forniti dall'immagine con lo scopo di estrarne solamente le informazioni principali.\n",
    "\n",
    "- `Flatten`: è un layer che linearizza i dati provenienti dal layer precedenti disposti su più dimensioni trasformandoli in una sola sequenza unidimensionale.\n",
    "\n",
    "Le altre tipologie di Layer sono già state usate nell'implementazione della rete neurale profonda."
   ]
  },
  {
   "cell_type": "code",
   "execution_count": 13,
   "id": "43132bae",
   "metadata": {},
   "outputs": [],
   "source": [
    "def create_CNN():\n",
    "    # instantiate model\n",
    "    model = Sequential()\n",
    "    # add first convolutional layer with 10 filters (dimensionality of output space)\n",
    "    model.add(Conv2D(10, kernel_size=(5, 5),\n",
    "                     activation='relu',\n",
    "                     input_shape=input_shape))\n",
    "    model.add(MaxPooling2D(pool_size=(3,3), strides=(2,2)))\n",
    "    model.add(Dense(32))\n",
    "    model.add(Dropout(0.7))\n",
    "    model.add(Flatten())\n",
    "    model.add(Dense(16, activation='relu'))\n",
    "    model.add(Dense(10, activation='softmax'))\n",
    "    # compile the model\n",
    "    model.compile(loss=keras.losses.categorical_crossentropy,\n",
    "                  optimizer='SGD',\n",
    "                  metrics=['acc'])\n",
    "    return model"
   ]
  },
  {
   "cell_type": "markdown",
   "id": "2eb87cf1",
   "metadata": {},
   "source": [
    "In questo caso la funzione `create_CNN()` esegue anche la compilazione del modello. È stata usata sempre la funzione di costo `categorical_crossentropy` che è la scelta ottimale per problemi di catalogazione.\n",
    "L'ottimizzatore scelto è invece il puro algoritmo di discesa stocastica del gradiente."
   ]
  },
  {
   "cell_type": "code",
   "execution_count": 14,
   "id": "e970109d",
   "metadata": {},
   "outputs": [
    {
     "name": "stdout",
     "output_type": "stream",
     "text": [
      "Model: \"sequential_1\"\n",
      "_________________________________________________________________\n",
      "Layer (type)                 Output Shape              Param #   \n",
      "=================================================================\n",
      "conv2d (Conv2D)              (None, 24, 24, 10)        260       \n",
      "_________________________________________________________________\n",
      "max_pooling2d (MaxPooling2D) (None, 11, 11, 10)        0         \n",
      "_________________________________________________________________\n",
      "dense_3 (Dense)              (None, 11, 11, 32)        352       \n",
      "_________________________________________________________________\n",
      "dropout_1 (Dropout)          (None, 11, 11, 32)        0         \n",
      "_________________________________________________________________\n",
      "flatten (Flatten)            (None, 3872)              0         \n",
      "_________________________________________________________________\n",
      "dense_4 (Dense)              (None, 16)                61968     \n",
      "_________________________________________________________________\n",
      "dense_5 (Dense)              (None, 10)                170       \n",
      "=================================================================\n",
      "Total params: 62,750\n",
      "Trainable params: 62,750\n",
      "Non-trainable params: 0\n",
      "_________________________________________________________________\n"
     ]
    }
   ],
   "source": [
    "m = create_CNN()\n",
    "m.summary()"
   ]
  },
  {
   "cell_type": "markdown",
   "id": "0cd99753",
   "metadata": {},
   "source": [
    "A questo punto posso avviare l'allenamento del modello. Vengono utilizzate solamente 5 epoche per via della complessità del modello che rende l'allenamento computazionalmente costoso e determina un alto rischio di incorrere nell'overlearning."
   ]
  },
  {
   "cell_type": "code",
   "execution_count": 15,
   "id": "0de63ba8",
   "metadata": {},
   "outputs": [
    {
     "name": "stdout",
     "output_type": "stream",
     "text": [
      "Epoch 1/10\n",
      "1875/1875 [==============================] - 27s 14ms/step - loss: 1.1169 - acc: 0.6236 - val_loss: 0.1757 - val_acc: 0.9513\n",
      "Epoch 2/10\n",
      "1875/1875 [==============================] - 26s 14ms/step - loss: 0.2135 - acc: 0.9350 - val_loss: 0.1041 - val_acc: 0.9683\n",
      "Epoch 3/10\n",
      "1875/1875 [==============================] - 28s 15ms/step - loss: 0.1487 - acc: 0.9558 - val_loss: 0.0786 - val_acc: 0.9761\n",
      "Epoch 4/10\n",
      "1875/1875 [==============================] - 31s 17ms/step - loss: 0.1214 - acc: 0.9639 - val_loss: 0.0649 - val_acc: 0.9792\n",
      "Epoch 5/10\n",
      "1875/1875 [==============================] - 28s 15ms/step - loss: 0.1018 - acc: 0.9687 - val_loss: 0.0595 - val_acc: 0.9802\n",
      "Epoch 6/10\n",
      "1875/1875 [==============================] - 29s 15ms/step - loss: 0.0952 - acc: 0.9703 - val_loss: 0.0546 - val_acc: 0.9808\n",
      "Epoch 7/10\n",
      "1875/1875 [==============================] - 28s 15ms/step - loss: 0.0875 - acc: 0.9726 - val_loss: 0.0503 - val_acc: 0.9838\n",
      "Epoch 8/10\n",
      "1875/1875 [==============================] - 26s 14ms/step - loss: 0.0842 - acc: 0.9752 - val_loss: 0.0501 - val_acc: 0.9825\n",
      "Epoch 9/10\n",
      "1875/1875 [==============================] - 26s 14ms/step - loss: 0.0784 - acc: 0.9764 - val_loss: 0.0467 - val_acc: 0.9848\n",
      "Epoch 10/10\n",
      "1875/1875 [==============================] - 26s 14ms/step - loss: 0.0734 - acc: 0.9764 - val_loss: 0.0452 - val_acc: 0.9847\n",
      "313/313 [==============================] - 2s 5ms/step - loss: 0.0452 - acc: 0.9847\n",
      "\n",
      "Test loss: 0.045153167098760605\n",
      "Test accuracy: 0.9847000241279602\n"
     ]
    }
   ],
   "source": [
    "# training parameters\n",
    "batch_size = 32\n",
    "epochs = 10\n",
    "\n",
    "# create the deep conv net\n",
    "model_CNN=create_CNN()\n",
    "\n",
    "# train CNN\n",
    "history = model_CNN.fit(X_train, Y_train,\n",
    "          batch_size=batch_size,\n",
    "          epochs=epochs,\n",
    "          verbose=1,\n",
    "          validation_data=(X_test, Y_test))\n",
    "\n",
    "# evaliate model\n",
    "score = model_CNN.evaluate(X_test, Y_test, verbose=1)\n",
    "\n",
    "# print performance\n",
    "print()\n",
    "print('Test loss:', score[0])\n",
    "print('Test accuracy:', score[1])"
   ]
  },
  {
   "cell_type": "markdown",
   "id": "19c90f0a",
   "metadata": {},
   "source": [
    "Il modello allenato svolge il compito prefissato in maniera soddisfacente, come si può concludere dai valori ottenuti dalla valutazione sul test set della funzione di costo e dell'accuratezza.\n",
    "\n",
    "Lo storico di queste funzioni valutate ad ogni epoca, nella prima esecuzione con sole 5 epoche, suggerivano che si sarebbero potuti ottenere risultati migliori continuando l'allenamento in quanto sia l'accuratezza sia la loss mostravano un andamento non ancora in saturazione. Inoltre l'accuratezza valutata sul test set è nelle prime epoche maggiore di quella valutata sul training set, indice anch'esso della possibilità di continuare l'allenamento almeno fino a quando non avviene l'inversione tra le due funzioni."
   ]
  },
  {
   "cell_type": "code",
   "execution_count": 17,
   "id": "0957122d",
   "metadata": {},
   "outputs": [
    {
     "data": {
      "image/png": "[encoded data removed]",
      "text/plain": [
       "<Figure size 432x288 with 1 Axes>"
      ]
     },
     "metadata": {
      "needs_background": "light"
     },
     "output_type": "display_data"
    },
    {
     "data": {
      "image/png": "[encoded data removed]",
      "text/plain": [
       "<Figure size 432x288 with 1 Axes>"
      ]
     },
     "metadata": {
      "needs_background": "light"
     },
     "output_type": "display_data"
    }
   ],
   "source": [
    "# look into training history\n",
    "\n",
    "# summarize history for accuracy\n",
    "plt.plot(history.history['acc'])\n",
    "plt.plot(history.history['val_acc'])\n",
    "plt.ylabel('model accuracy')\n",
    "plt.xlabel('epoch')\n",
    "plt.legend(['train', 'test'], loc='best')\n",
    "plt.show()\n",
    "\n",
    "# summarize history for loss\n",
    "plt.plot(history.history['loss'])\n",
    "plt.plot(history.history['val_loss'])\n",
    "plt.ylabel('model loss')\n",
    "plt.xlabel('epoch')\n",
    "plt.legend(['train', 'test'], loc='best')\n",
    "plt.show()"
   ]
  },
  {
   "cell_type": "code",
   "execution_count": 18,
   "id": "2b4497e3",
   "metadata": {},
   "outputs": [
    {
     "data": {
      "image/png": "[encoded data removed]",
      "text/plain": [
       "<Figure size 1080x1080 with 10 Axes>"
      ]
     },
     "metadata": {
      "needs_background": "light"
     },
     "output_type": "display_data"
    }
   ],
   "source": [
    "#X_test = X_test.reshape(X_test.shape[0], img_rows*img_cols)\n",
    "predictions = model_CNN.predict(X_test)\n",
    "\n",
    "X_test = X_test.reshape(X_test.shape[0], img_rows, img_cols,1)\n",
    "\n",
    "plt.figure(figsize=(15, 15)) \n",
    "for i in range(10):    \n",
    "    ax = plt.subplot(2, 10, i + 1)    \n",
    "    plt.imshow(X_test[i, :, :, 0], cmap='gray')    \n",
    "    plt.title(\"Digit: {}\\nPredicted:    {}\".format(np.argmax(Y_test[i]), np.argmax(predictions[i])))    \n",
    "    plt.axis('off') \n",
    "plt.show()"
   ]
  },
  {
   "cell_type": "markdown",
   "id": "271fbe2d",
   "metadata": {},
   "source": [
    "In questa immagine è presentata l'applicazione del modello allenato ad un sottoinsieme del test set. Lo scopo è ancora quello di mostrare l'accuratezza del modello avendo modo di osservare i dati di input che la rete ha processato."
   ]
  },
  {
   "cell_type": "markdown",
   "id": "f87916a7",
   "metadata": {},
   "source": [
    "### 3.2 Applicazione del modello"
   ]
  },
  {
   "cell_type": "markdown",
   "id": "41073e36",
   "metadata": {},
   "source": [
    "Come per il punto precedente, anche in questo caso ho utilizzato il modello allenato applicandolo ad alcune cifre scritte a mano da me"
   ]
  },
  {
   "cell_type": "code",
   "execution_count": 27,
   "id": "b89853b7",
   "metadata": {},
   "outputs": [
    {
     "data": {
      "image/png": "[encoded data removed]",
      "text/plain": [
       "<Figure size 1080x1080 with 10 Axes>"
      ]
     },
     "metadata": {
      "needs_background": "light"
     },
     "output_type": "display_data"
    }
   ],
   "source": [
    "from PIL import Image\n",
    "import os\n",
    "\n",
    "my_X = []\n",
    "for i in range(0,10):\n",
    "    digit_filename = f\"./{i}.png\"\n",
    "    digit_in = Image.open(digit_filename).convert('L')\n",
    "    \n",
    "    ydim, xdim = digit_in.size\n",
    "    pix=digit_in.load();\n",
    "    data = np.zeros((xdim, ydim))\n",
    "    for j in range(ydim):\n",
    "        for i in range(xdim):\n",
    "            data[i,j]=pix[j,i]\n",
    "\n",
    "    data /= 255\n",
    "    data = data.reshape(1,xdim,ydim,1)\n",
    "    my_X.append(data)\n",
    "    \n",
    "my_X = np.array(my_X)\n",
    "predictions = [model_CNN.predict(ele) for ele in my_X]\n",
    "\n",
    "my_X = my_X.reshape(my_X.shape[0], img_rows, img_cols,1)\n",
    "\n",
    "plt.figure(figsize=(15, 15)) \n",
    "for i in range(10):    \n",
    "    ax = plt.subplot(2, 10, i + 1)    \n",
    "    plt.imshow(my_X[i, :, :, 0], cmap='gray')    \n",
    "    plt.title(\"Digit: {}\\nPredicted:    {}\".format(i, np.argmax(predictions[i])))    \n",
    "    plt.axis('off') \n",
    "plt.tight_layout()\n",
    "plt.show()"
   ]
  }
 ],
 "metadata": {
  "kernelspec": {
   "display_name": "Python 3",
   "language": "python",
   "name": "python3"
  },
  "language_info": {
   "codemirror_mode": {
    "name": "ipython",
    "version": 3
   },
   "file_extension": ".py",
   "mimetype": "text/x-python",
   "name": "python",
   "nbconvert_exporter": "python",
   "pygments_lexer": "ipython3",
   "version": "3.9.5"
  }
 },
 "nbformat": 4,
 "nbformat_minor": 5
}
